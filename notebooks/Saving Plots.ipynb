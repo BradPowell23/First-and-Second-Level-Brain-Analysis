{
 "cells": [
  {
   "cell_type": "code",
   "execution_count": 1,
   "metadata": {},
   "outputs": [],
   "source": [
    "import nilearn\n",
    "import numpy as np\n",
    "import pandas as pd\n",
    "from nilearn import plotting\n",
    "from nilearn import image\n",
    "from nilearn.glm.first_level import make_first_level_design_matrix\n",
    "from nilearn.plotting import plot_stat_map, plot_anat, plot_img, view_img\n",
    "from nilearn.glm.first_level import FirstLevelModel\n",
    "from nilearn.image import concat_imgs, mean_img\n",
    "from nilearn.plotting import plot_contrast_matrix\n",
    "import matplotlib.pyplot as plt\n",
    "from nilearn.glm import threshold_stats_img\n",
    "from numpy import array\n",
    "from nilearn.image import concat_imgs, index_img"
   ]
  },
  {
   "cell_type": "code",
   "execution_count": 2,
   "metadata": {},
   "outputs": [],
   "source": [
    "def single_run(image_file, view_file, recall_file, confounds_file):\n",
    "    events_view = pd.read_csv(view_file, sep='\\t')\n",
    "    events_view['trial_type'] = 'view'\n",
    "    events_recall = pd.read_csv(recall_file, sep='\\t')\n",
    "    events_recall['trial_type'] = 'recall'\n",
    "    events = pd.concat([events_view, events_recall])\n",
    "    confounds = pd.read_csv(confounds_file, sep='\\t')\n",
    "\n",
    "    timings = np.arange(0, len(confounds))\n",
    "    design_matrix_constant = make_first_level_design_matrix(timings, events, drift_model=None)\n",
    "    design_matrix = pd.concat([design_matrix_constant, confounds], axis=1)\n",
    "\n",
    "    view_array = np.zeros(len(design_matrix.columns))\n",
    "    view_array[1] = 1\n",
    "\n",
    "    recall_array = np.zeros(len(design_matrix.columns))\n",
    "    recall_array[0] = 1\n",
    "\n",
    "    conditions = {\n",
    "        'view': view_array,\n",
    "        'recall': recall_array,\n",
    "    }\n",
    "    view_minus_recall = conditions['view'] - conditions['recall']\n",
    "    #plot_contrast_matrix(view_minus_recall, design_matrix=design_matrix)\n",
    "\n",
    "    fmri_imgs = image.load_img(image_file)\n",
    "    avg_img = mean_img(fmri_imgs)\n",
    "    \n",
    "    #Model\n",
    "    fmri_glm = FirstLevelModel(t_r=1,\n",
    "                               noise_model='ar1',\n",
    "                               standardize=False,\n",
    "                               hrf_model='spm',\n",
    "                               drift_model=None,\n",
    "                               high_pass=.01)\n",
    "\n",
    "    fmri_glm = fmri_glm.fit(fmri_imgs, design_matrices = design_matrix)\n",
    "    \n",
    "    beta_map = fmri_glm.compute_contrast(view_minus_recall, output_type = \"all\")\n",
    "    return beta_map"
   ]
  },
  {
   "cell_type": "code",
   "execution_count": 3,
   "metadata": {
    "scrolled": true
   },
   "outputs": [],
   "source": [
    "for subj in range(11, 21): #loop through subjects\n",
    "    for run in range(1, 4): #loop through runs\n",
    "        image_file = \"/Users/bradpowell/Desktop/sub-\" + str(subj) + \"/ses-01/images_\" + str(run) + '.nii.gz'\n",
    "        view_file = \"/Users/bradpowell/Desktop/sub-\" + str(subj) + \"/ses-01/view_\" + str(run) + '.tsv'\n",
    "        recall_file = \"/Users/bradpowell/Desktop/sub-\" + str(subj) + \"/ses-01/recall_\" + str(run) + '.tsv'\n",
    "        confounds_file = \"/Users/bradpowell/Desktop/sub-\" + str(subj) + \"/ses-01/confounds_\" + str(run) + '.txt'\n",
    "        \n",
    "        plot_dict = single_run(image_file, view_file, recall_file, confounds_file)\n",
    "\n",
    "        for key in plot_dict:\n",
    "            plot = plot_dict[key]\n",
    "            plot.to_filename('subject' + str(subj) + '_run' + str(run) + '_' + key)"
   ]
  },
  {
   "cell_type": "code",
   "execution_count": null,
   "metadata": {},
   "outputs": [],
   "source": []
  }
 ],
 "metadata": {
  "kernelspec": {
   "display_name": "Python 3",
   "language": "python",
   "name": "python3"
  },
  "language_info": {
   "codemirror_mode": {
    "name": "ipython",
    "version": 3
   },
   "file_extension": ".py",
   "mimetype": "text/x-python",
   "name": "python",
   "nbconvert_exporter": "python",
   "pygments_lexer": "ipython3",
   "version": "3.8.5"
  }
 },
 "nbformat": 4,
 "nbformat_minor": 4
}
